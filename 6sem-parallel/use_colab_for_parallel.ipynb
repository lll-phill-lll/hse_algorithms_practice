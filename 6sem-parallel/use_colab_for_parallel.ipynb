{
  "nbformat": 4,
  "nbformat_minor": 0,
  "metadata": {
    "colab": {
      "name": "use_colab_for_parallel",
      "provenance": []
    },
    "kernelspec": {
      "name": "python3",
      "display_name": "Python 3"
    },
    "language_info": {
      "name": "python"
    }
  },
  "cells": [
    {
      "cell_type": "code",
      "metadata": {
        "colab": {
          "base_uri": "https://localhost:8080/"
        },
        "id": "7jMg3AfE0275",
        "outputId": "264a7291-dff4-4ac1-f5ab-ad4c0b666afb"
      },
      "source": [
        "!lsb_release -a"
      ],
      "execution_count": 1,
      "outputs": [
        {
          "output_type": "stream",
          "name": "stdout",
          "text": [
            "No LSB modules are available.\n",
            "Distributor ID:\tUbuntu\n",
            "Description:\tUbuntu 18.04.5 LTS\n",
            "Release:\t18.04\n",
            "Codename:\tbionic\n"
          ]
        }
      ]
    },
    {
      "cell_type": "code",
      "metadata": {
        "colab": {
          "base_uri": "https://localhost:8080/"
        },
        "id": "MSELXsFRCeeT",
        "outputId": "56550aa6-8291-4d4e-d01e-cc816944ea82"
      },
      "source": [
        "%%writefile gconf.sh\n",
        "\n",
        "#!/usr/bin/env sh\n",
        "\n",
        "sudo apt-get update -y\n",
        "sudo apt-get upgrade -y\n",
        "sudo apt-get dist-upgrade -y\n",
        "sudo apt-get install build-essential software-properties-common -y\n",
        "sudo add-apt-repository ppa:ubuntu-toolchain-r/test -y\n",
        "sudo apt-get update -y\n",
        "sudo apt-get install gcc-9 g++-9 -y\n",
        "sudo update-alternatives --install /usr/bin/gcc gcc /usr/bin/gcc-9 60 --slave /usr/bin/g++ g++ /usr/bin/g++-9\n",
        "sudo update-alternatives --config gcc\n",
        "\n",
        "select gcc-9"
      ],
      "execution_count": 2,
      "outputs": [
        {
          "output_type": "stream",
          "name": "stdout",
          "text": [
            "Writing gconf.sh\n"
          ]
        }
      ]
    },
    {
      "cell_type": "code",
      "metadata": {
        "id": "eHYCqUoWCfeT"
      },
      "source": [
        "!sudo /bin/bash gconf.sh > /dev/null 2>&1"
      ],
      "execution_count": 3,
      "outputs": []
    },
    {
      "cell_type": "code",
      "metadata": {
        "id": "AvK8LqtsJTR-",
        "colab": {
          "base_uri": "https://localhost:8080/"
        },
        "outputId": "94c5c7e1-b874-412b-a5fb-8be768dd2b87"
      },
      "source": [
        "!# add new tbb library (2018 year required, 2017 is only available)\n",
        "!echo \"deb http://old-releases.ubuntu.com/ubuntu eoan main universe\" | sudo tee -a  /etc/apt/sources.list \n",
        "!sudo apt update > /dev/null 2>&1\n",
        "\n",
        "!sudo apt install libstdc++-9-dev > /dev/null 2>&1\n",
        "!sudo apt install  libtbb-dev > /dev/null 2>&1"
      ],
      "execution_count": 5,
      "outputs": [
        {
          "output_type": "stream",
          "name": "stdout",
          "text": [
            "deb http://old-releases.ubuntu.com/ubuntu eoan main universe\n"
          ]
        }
      ]
    },
    {
      "cell_type": "code",
      "metadata": {
        "colab": {
          "base_uri": "https://localhost:8080/"
        },
        "id": "AVt-ed9Wz_UN",
        "outputId": "270f817d-7db1-4d08-8599-8deaae6736bd"
      },
      "source": [
        "%%writefile profile.h\n",
        "\n",
        "#pragma once\n",
        "\n",
        "#include <chrono>\n",
        "#include <iostream>\n",
        "#include <optional>\n",
        "#include <string>\n",
        "#include <sstream>\n",
        "\n",
        "class LogDuration {\n",
        "public:\n",
        "  explicit LogDuration(const std::string& msg = \"\")\n",
        "    : message(msg + \": \")\n",
        "    , start(std::chrono::steady_clock::now())\n",
        "  {\n",
        "  }\n",
        "\n",
        "  ~LogDuration() {\n",
        "    auto finish = std::chrono::steady_clock::now();\n",
        "    auto dur = finish - start;\n",
        "    std::ostringstream os;\n",
        "    os << message\n",
        "       << std::chrono::duration_cast<std::chrono::milliseconds>(dur).count()\n",
        "       << \" ms\" << std::endl;\n",
        "    std::cerr << os.str();\n",
        "  }\n",
        "private:\n",
        "  std::string message;\n",
        "  std::chrono::steady_clock::time_point start;\n",
        "};\n",
        "\n",
        "#ifndef UNIQ_ID\n",
        "  #define UNIQ_ID_IMPL(lineno) _a_local_var_##lineno\n",
        "  #define UNIQ_ID(lineno) UNIQ_ID_IMPL(lineno)\n",
        "#endif\n",
        "\n",
        "#define LOG_DURATION(message) \\\n",
        "  LogDuration UNIQ_ID(__LINE__){message};"
      ],
      "execution_count": 6,
      "outputs": [
        {
          "output_type": "stream",
          "name": "stdout",
          "text": [
            "Writing profile.h\n"
          ]
        }
      ]
    },
    {
      "cell_type": "code",
      "metadata": {
        "colab": {
          "base_uri": "https://localhost:8080/"
        },
        "id": "SGdnzo8-zUT_",
        "outputId": "03971a14-d012-443f-8571-7668a22d4d75"
      },
      "source": [
        "%%writefile sort.cpp\n",
        "#include \"profile.h\"\n",
        "#include <algorithm>\n",
        "#include <execution>\n",
        "#include <random>\n",
        "#include <vector>\n",
        "\n",
        "using namespace std;\n",
        "\n",
        "vector<int> GenerateNumbers(mt19937& generator,\n",
        "                            int number_count, int max_value) {\n",
        "    vector<int> v(number_count);\n",
        "    for (int& value : v) {\n",
        "        value = uniform_int_distribution(0, max_value)(generator);\n",
        "    }\n",
        "    return v;\n",
        "}\n",
        "\n",
        "int main() {\n",
        "    mt19937 generator;\n",
        "    const vector<int> v = GenerateNumbers(generator, 10'000'000, 1'000);\n",
        "\n",
        "    vector<int> v1 = v;\n",
        "    {\n",
        "        LOG_DURATION(\"simple\");\n",
        "        sort(v1.begin(), v1.end());\n",
        "    }\n",
        "\n",
        "    vector<int> v2 = v;\n",
        "    {\n",
        "        LOG_DURATION(\"seq\");\n",
        "        sort(execution::seq, v2.begin(), v2.end());\n",
        "    }\n",
        "\n",
        "    vector<int> v3 = v;\n",
        "    {\n",
        "        LOG_DURATION(\"par\");\n",
        "        sort(execution::par, v3.begin(), v3.end());\n",
        "    }\n",
        "}"
      ],
      "execution_count": 7,
      "outputs": [
        {
          "output_type": "stream",
          "name": "stdout",
          "text": [
            "Writing sort.cpp\n"
          ]
        }
      ]
    },
    {
      "cell_type": "code",
      "metadata": {
        "id": "-B1WS-bZ0Gvz",
        "colab": {
          "base_uri": "https://localhost:8080/"
        },
        "outputId": "b3ef9ddc-c5fa-4cce-e013-c9e38f875b57"
      },
      "source": [
        "!g++ sort.cpp --std=c++17  -ltbb -lpthread -w && ./a.out"
      ],
      "execution_count": 10,
      "outputs": [
        {
          "output_type": "stream",
          "name": "stdout",
          "text": [
            "simple: 4610 ms\n",
            "seq: 5249 ms\n",
            "par: 3875 ms\n"
          ]
        }
      ]
    },
    {
      "cell_type": "code",
      "metadata": {
        "id": "gjYuF8K4Calv",
        "colab": {
          "base_uri": "https://localhost:8080/"
        },
        "outputId": "11e3f92f-ae77-4e7c-bffb-5751e3daa9c9"
      },
      "source": [
        "%%writefile futures.cpp\n",
        "\n",
        "#include <future>\n",
        "#include <iostream>\n",
        "#include <vector>\n",
        "#include <mutex>\n",
        "\n",
        "\n",
        "std::mutex mtx;\n",
        "int print_with_mutex_exception_lock_guard(int m) {\n",
        "    std::lock_guard<std::mutex> lck (mtx);\n",
        "    if (m == 5) throw \"Want hugs\";\n",
        "    std::cout << \"got: \" << m << std::endl;\n",
        "    return 2 * m;\n",
        "}\n",
        "\n",
        "int main() {\n",
        "    std::vector<std::future<int>> futures;\n",
        "\n",
        "    for(int i = 0; i < 10; ++i) {\n",
        "        futures.push_back(std::async(print_with_mutex_exception_lock_guard, i));\n",
        "    }\n",
        "\n",
        "    for (auto& fut : futures) {\n",
        "        fut.wait();\n",
        "    }\n",
        "\n",
        "    return 0;\n",
        "}"
      ],
      "execution_count": 11,
      "outputs": [
        {
          "output_type": "stream",
          "name": "stdout",
          "text": [
            "Writing futures.cpp\n"
          ]
        }
      ]
    },
    {
      "cell_type": "code",
      "metadata": {
        "id": "KTIh2jHS3nV2",
        "colab": {
          "base_uri": "https://localhost:8080/"
        },
        "outputId": "c6289669-514b-4a47-b615-a729f8f4241b"
      },
      "source": [
        "!g++ futures.cpp --std=c++17  -ltbb -lpthread -w && ./a.out"
      ],
      "execution_count": 13,
      "outputs": [
        {
          "output_type": "stream",
          "name": "stdout",
          "text": [
            "got: 1\n",
            "got: 2\n",
            "got: 3\n",
            "got: 8\n",
            "got: 4\n",
            "got: 0\n",
            "got: 6\n",
            "got: 7\n",
            "got: 9\n"
          ]
        }
      ]
    },
    {
      "cell_type": "code",
      "metadata": {
        "id": "Qw7RQIQJLiHq"
      },
      "source": [
        ""
      ],
      "execution_count": null,
      "outputs": []
    }
  ]
}